{
 "cells": [
  {
   "attachments": {},
   "cell_type": "markdown",
   "metadata": {},
   "source": [
    "## Data Integration and Reshaping\n",
    "\n",
    "environment: pyhton 3.8.8\n",
    "\n",
    "### Table of Content"
   ]
  },
  {
   "attachments": {},
   "cell_type": "markdown",
   "metadata": {},
   "source": [
    "### 1 Extrac data:\n",
    "\n",
    "the xml file is missing root, & should be changed to ''&''"
   ]
  },
  {
   "cell_type": "code",
   "execution_count": 19,
   "metadata": {},
   "outputs": [],
   "source": [
    "# read the xml file\n",
    "my_xml = []\n",
    "with open('realstate.xml') as f:\n",
    "    for line in f:\n",
    "        # fix the text issue\n",
    "        fix_line = line.replace('&','&amp;')\n",
    "        my_xml.append(fix_line)\n",
    "    f.close()\n",
    "# create a new file and add root\n",
    "with open('fixed_realstate.xml','a') as f:\n",
    "    f.write(\"<properties>\\n\")\n",
    "    for line in my_xml:\n",
    "        string = '    ' + line\n",
    "        f.write(string)\n",
    "    f.write(\"</properties>\\n\")\n",
    "    f.close()"
   ]
  },
  {
   "attachments": {},
   "cell_type": "markdown",
   "metadata": {},
   "source": [
    "Parse xml file"
   ]
  },
  {
   "cell_type": "code",
   "execution_count": 20,
   "metadata": {},
   "outputs": [],
   "source": [
    "import xml.etree.ElementTree as ET\n",
    "import pandas as pd\n",
    "\n",
    "xml_data = open('fixed_realstate.xml', 'r').read() \n",
    "root = ET.XML(xml_data)\n",
    "# list for dataframe attributes\n",
    "property_id  = []\n",
    "lat  = []\n",
    "lng =[]\n",
    "addr_street = []\n",
    "for i, attribute  in enumerate(root):\n",
    "    # match the attribute and store information\n",
    "    for info in attribute:\n",
    "        if  info.tag == 'property_id':\n",
    "            property_id.append(info.text)\n",
    "        elif info.tag == 'lat':\n",
    "            lat.append(info.text)\n",
    "        elif info.tag == 'lng':\n",
    "            lng.append(info.text)\n",
    "        elif info.tag == 'addr_street':\n",
    "            addr_street.append(info.text)\n",
    "        else:\n",
    "            # in case, If there are any strange errors\n",
    "            print(info.tag,info.text)\n",
    "# convert to pandas dataframe\n",
    "data = [property_id,lat,lng,addr_street]       \n",
    "address_df = pd.DataFrame(data).T \n",
    "cols = ['property_id','lat','lng','addr_street']\n",
    "address_df.columns = cols"
   ]
  },
  {
   "cell_type": "code",
   "execution_count": 21,
   "metadata": {},
   "outputs": [
    {
     "data": {
      "text/html": [
       "<div>\n",
       "<style scoped>\n",
       "    .dataframe tbody tr th:only-of-type {\n",
       "        vertical-align: middle;\n",
       "    }\n",
       "\n",
       "    .dataframe tbody tr th {\n",
       "        vertical-align: top;\n",
       "    }\n",
       "\n",
       "    .dataframe thead th {\n",
       "        text-align: right;\n",
       "    }\n",
       "</style>\n",
       "<table border=\"1\" class=\"dataframe\">\n",
       "  <thead>\n",
       "    <tr style=\"text-align: right;\">\n",
       "      <th></th>\n",
       "      <th>property_id</th>\n",
       "      <th>lat</th>\n",
       "      <th>lng</th>\n",
       "      <th>addr_street</th>\n",
       "    </tr>\n",
       "  </thead>\n",
       "  <tbody>\n",
       "    <tr>\n",
       "      <th>0</th>\n",
       "      <td>73532</td>\n",
       "      <td>-37.849075</td>\n",
       "      <td>145.303972</td>\n",
       "      <td>31 Dorrigo Drive</td>\n",
       "    </tr>\n",
       "    <tr>\n",
       "      <th>1</th>\n",
       "      <td>2194</td>\n",
       "      <td>-37.819211</td>\n",
       "      <td>144.845848</td>\n",
       "      <td>35 Corrigan Avenue</td>\n",
       "    </tr>\n",
       "    <tr>\n",
       "      <th>2</th>\n",
       "      <td>12980</td>\n",
       "      <td>-37.694174</td>\n",
       "      <td>144.758153</td>\n",
       "      <td>32 Dundee Way</td>\n",
       "    </tr>\n",
       "    <tr>\n",
       "      <th>3</th>\n",
       "      <td>7687</td>\n",
       "      <td>-37.74916077</td>\n",
       "      <td>144.7638855</td>\n",
       "      <td>95 Fairfax Circuit</td>\n",
       "    </tr>\n",
       "    <tr>\n",
       "      <th>4</th>\n",
       "      <td>3210</td>\n",
       "      <td>-37.814997</td>\n",
       "      <td>144.86763100000005</td>\n",
       "      <td>25A Sanderson Street</td>\n",
       "    </tr>\n",
       "  </tbody>\n",
       "</table>\n",
       "</div>"
      ],
      "text/plain": [
       "  property_id           lat                 lng           addr_street\n",
       "0       73532    -37.849075          145.303972      31 Dorrigo Drive\n",
       "1        2194    -37.819211          144.845848    35 Corrigan Avenue\n",
       "2       12980    -37.694174          144.758153         32 Dundee Way\n",
       "3        7687  -37.74916077         144.7638855    95 Fairfax Circuit\n",
       "4        3210    -37.814997  144.86763100000005  25A Sanderson Street"
      ]
     },
     "execution_count": 21,
     "metadata": {},
     "output_type": "execute_result"
    }
   ],
   "source": [
    "address_df.head()"
   ]
  },
  {
   "attachments": {},
   "cell_type": "markdown",
   "metadata": {},
   "source": [
    "Read the pdf file"
   ]
  },
  {
   "cell_type": "code",
   "execution_count": 22,
   "metadata": {},
   "outputs": [],
   "source": [
    "import PyPDF2\n",
    "# creating a pdf file object\n",
    "pdfFileObj = open('realstate.pdf', 'rb')\n",
    "  \n",
    "# creating a pdf reader object\n",
    "pdfReader  = PyPDF2.PdfReader(pdfFileObj)\n",
    "\n",
    "pages_text = []\n",
    " \n",
    "# creating a page object\n",
    "pageObj = pdfReader.pages[0]\n",
    "pages_text.append(pageObj.extract_text())\n",
    "\n",
    "#convert to pandas df\n",
    "df_pdf = pd.DataFrame({'Text': pages_text})\n",
    "\n",
    "pdfFileObj.close()"
   ]
  },
  {
   "cell_type": "code",
   "execution_count": 45,
   "metadata": {},
   "outputs": [],
   "source": [
    "from tabula.io import read_pdf\n",
    "tables = read_pdf('realstate.pdf', pages='all')"
   ]
  },
  {
   "cell_type": "code",
   "execution_count": 46,
   "metadata": {},
   "outputs": [
    {
     "data": {
      "text/html": [
       "<div>\n",
       "<style scoped>\n",
       "    .dataframe tbody tr th:only-of-type {\n",
       "        vertical-align: middle;\n",
       "    }\n",
       "\n",
       "    .dataframe tbody tr th {\n",
       "        vertical-align: top;\n",
       "    }\n",
       "\n",
       "    .dataframe thead th {\n",
       "        text-align: right;\n",
       "    }\n",
       "</style>\n",
       "<table border=\"1\" class=\"dataframe\">\n",
       "  <thead>\n",
       "    <tr style=\"text-align: right;\">\n",
       "      <th></th>\n",
       "      <th>property_id</th>\n",
       "      <th>lat</th>\n",
       "      <th>lng</th>\n",
       "      <th>addr_street</th>\n",
       "    </tr>\n",
       "  </thead>\n",
       "  <tbody>\n",
       "    <tr>\n",
       "      <th>0</th>\n",
       "      <td>34701</td>\n",
       "      <td>-37.722324</td>\n",
       "      <td>145.021654</td>\n",
       "      <td>33 Boldrewood Parade</td>\n",
       "    </tr>\n",
       "    <tr>\n",
       "      <th>1</th>\n",
       "      <td>12218</td>\n",
       "      <td>-37.712146</td>\n",
       "      <td>144.771964</td>\n",
       "      <td>12 Lacebark Road</td>\n",
       "    </tr>\n",
       "    <tr>\n",
       "      <th>2</th>\n",
       "      <td>95829</td>\n",
       "      <td>-37.925040</td>\n",
       "      <td>145.047606</td>\n",
       "      <td>46 London Street</td>\n",
       "    </tr>\n",
       "    <tr>\n",
       "      <th>3</th>\n",
       "      <td>37225</td>\n",
       "      <td>-37.645165</td>\n",
       "      <td>145.052382</td>\n",
       "      <td>3 Guinea Court</td>\n",
       "    </tr>\n",
       "    <tr>\n",
       "      <th>4</th>\n",
       "      <td>94289</td>\n",
       "      <td>-37.960549</td>\n",
       "      <td>145.078754</td>\n",
       "      <td>14 Oakmont Crescent</td>\n",
       "    </tr>\n",
       "  </tbody>\n",
       "</table>\n",
       "</div>"
      ],
      "text/plain": [
       "   property_id        lat         lng           addr_street\n",
       "0        34701 -37.722324  145.021654  33 Boldrewood Parade\n",
       "1        12218 -37.712146  144.771964      12 Lacebark Road\n",
       "2        95829 -37.925040  145.047606      46 London Street\n",
       "3        37225 -37.645165  145.052382        3 Guinea Court\n",
       "4        94289 -37.960549  145.078754   14 Oakmont Crescent"
      ]
     },
     "execution_count": 46,
     "metadata": {},
     "output_type": "execute_result"
    }
   ],
   "source": [
    "df_pdf = tables[0]\n",
    "df_pdf = df_pdf.drop('property_id', axis=1)\n",
    "rename = {'Unnamed: 0': 'property_id'}\n",
    "df_pdf.rename(columns=rename,\n",
    "          inplace=True)\n",
    "df_pdf = df_pdf[['property_id','lat','lng','addr_street']]\n",
    "df_pdf.head()"
   ]
  },
  {
   "cell_type": "code",
   "execution_count": 96,
   "metadata": {},
   "outputs": [],
   "source": [
    "# concat both df\n",
    "frames = [df_pdf, address_df]\n",
    "address_df = pd.concat(frames)\n",
    "address_df.reset_index(inplace=True, drop=True) "
   ]
  },
  {
   "cell_type": "code",
   "execution_count": 97,
   "metadata": {},
   "outputs": [
    {
     "data": {
      "text/html": [
       "<div>\n",
       "<style scoped>\n",
       "    .dataframe tbody tr th:only-of-type {\n",
       "        vertical-align: middle;\n",
       "    }\n",
       "\n",
       "    .dataframe tbody tr th {\n",
       "        vertical-align: top;\n",
       "    }\n",
       "\n",
       "    .dataframe thead th {\n",
       "        text-align: right;\n",
       "    }\n",
       "</style>\n",
       "<table border=\"1\" class=\"dataframe\">\n",
       "  <thead>\n",
       "    <tr style=\"text-align: right;\">\n",
       "      <th></th>\n",
       "      <th>property_id</th>\n",
       "      <th>lat</th>\n",
       "      <th>lng</th>\n",
       "      <th>addr_street</th>\n",
       "    </tr>\n",
       "  </thead>\n",
       "  <tbody>\n",
       "    <tr>\n",
       "      <th>0</th>\n",
       "      <td>34701</td>\n",
       "      <td>-37.722324</td>\n",
       "      <td>145.021654</td>\n",
       "      <td>33 Boldrewood Parade</td>\n",
       "    </tr>\n",
       "    <tr>\n",
       "      <th>1</th>\n",
       "      <td>12218</td>\n",
       "      <td>-37.712146</td>\n",
       "      <td>144.771964</td>\n",
       "      <td>12 Lacebark Road</td>\n",
       "    </tr>\n",
       "    <tr>\n",
       "      <th>2</th>\n",
       "      <td>95829</td>\n",
       "      <td>-37.92504</td>\n",
       "      <td>145.047606</td>\n",
       "      <td>46 London Street</td>\n",
       "    </tr>\n",
       "    <tr>\n",
       "      <th>3</th>\n",
       "      <td>37225</td>\n",
       "      <td>-37.645165</td>\n",
       "      <td>145.052382</td>\n",
       "      <td>3 Guinea Court</td>\n",
       "    </tr>\n",
       "    <tr>\n",
       "      <th>4</th>\n",
       "      <td>94289</td>\n",
       "      <td>-37.960549</td>\n",
       "      <td>145.078754</td>\n",
       "      <td>14 Oakmont Crescent</td>\n",
       "    </tr>\n",
       "  </tbody>\n",
       "</table>\n",
       "</div>"
      ],
      "text/plain": [
       "  property_id        lat         lng           addr_street\n",
       "0       34701 -37.722324  145.021654  33 Boldrewood Parade\n",
       "1       12218 -37.712146  144.771964      12 Lacebark Road\n",
       "2       95829  -37.92504  145.047606      46 London Street\n",
       "3       37225 -37.645165  145.052382        3 Guinea Court\n",
       "4       94289 -37.960549  145.078754   14 Oakmont Crescent"
      ]
     },
     "execution_count": 97,
     "metadata": {},
     "output_type": "execute_result"
    }
   ],
   "source": [
    "address_df.head()"
   ]
  },
  {
   "attachments": {},
   "cell_type": "markdown",
   "metadata": {},
   "source": [
    "### 2.Data Transformation:"
   ]
  },
  {
   "cell_type": "code",
   "execution_count": 98,
   "metadata": {},
   "outputs": [
    {
     "name": "stdout",
     "output_type": "stream",
     "text": [
      "<class 'pandas.core.frame.DataFrame'>\n",
      "RangeIndex: 2191 entries, 0 to 2190\n",
      "Data columns (total 4 columns):\n",
      " #   Column       Non-Null Count  Dtype \n",
      "---  ------       --------------  ----- \n",
      " 0   property_id  2191 non-null   object\n",
      " 1   lat          2191 non-null   object\n",
      " 2   lng          2191 non-null   object\n",
      " 3   addr_street  2191 non-null   object\n",
      "dtypes: object(4)\n",
      "memory usage: 68.6+ KB\n"
     ]
    }
   ],
   "source": [
    "address_df.info()"
   ]
  },
  {
   "cell_type": "code",
   "execution_count": 104,
   "metadata": {},
   "outputs": [],
   "source": [
    "#change the data type of lat and lng to float\n",
    "address_df['lat'] = address_df['lat'].astype(float)\n",
    "address_df['lng'] = address_df['lng'] .astype(float)\n",
    "address_df['property_id'] = address_df['property_id'].astype(int)\n",
    "address_df['addr_street'] = address_df['addr_street'].astype(str)"
   ]
  },
  {
   "cell_type": "code",
   "execution_count": 102,
   "metadata": {},
   "outputs": [
    {
     "data": {
      "text/html": [
       "<div>\n",
       "<style scoped>\n",
       "    .dataframe tbody tr th:only-of-type {\n",
       "        vertical-align: middle;\n",
       "    }\n",
       "\n",
       "    .dataframe tbody tr th {\n",
       "        vertical-align: top;\n",
       "    }\n",
       "\n",
       "    .dataframe thead th {\n",
       "        text-align: right;\n",
       "    }\n",
       "</style>\n",
       "<table border=\"1\" class=\"dataframe\">\n",
       "  <thead>\n",
       "    <tr style=\"text-align: right;\">\n",
       "      <th></th>\n",
       "      <th>property_id</th>\n",
       "      <th>lat</th>\n",
       "      <th>lng</th>\n",
       "      <th>addr_street</th>\n",
       "    </tr>\n",
       "  </thead>\n",
       "  <tbody>\n",
       "    <tr>\n",
       "      <th>1120</th>\n",
       "      <td>70</td>\n",
       "      <td>-37.824362</td>\n",
       "      <td>144.962089</td>\n",
       "      <td>117/173 City Road</td>\n",
       "    </tr>\n",
       "    <tr>\n",
       "      <th>777</th>\n",
       "      <td>271</td>\n",
       "      <td>-37.807817</td>\n",
       "      <td>144.897262</td>\n",
       "      <td>12 Pole Street</td>\n",
       "    </tr>\n",
       "    <tr>\n",
       "      <th>1327</th>\n",
       "      <td>313</td>\n",
       "      <td>-37.806835</td>\n",
       "      <td>144.901581</td>\n",
       "      <td>13 Parker Street</td>\n",
       "    </tr>\n",
       "    <tr>\n",
       "      <th>941</th>\n",
       "      <td>402</td>\n",
       "      <td>-37.797932</td>\n",
       "      <td>144.895828</td>\n",
       "      <td>16 Malden Street</td>\n",
       "    </tr>\n",
       "    <tr>\n",
       "      <th>1655</th>\n",
       "      <td>403</td>\n",
       "      <td>-37.797905</td>\n",
       "      <td>144.895897</td>\n",
       "      <td>16 Malden Street</td>\n",
       "    </tr>\n",
       "  </tbody>\n",
       "</table>\n",
       "</div>"
      ],
      "text/plain": [
       "      property_id        lat         lng        addr_street\n",
       "1120           70 -37.824362  144.962089  117/173 City Road\n",
       "777           271 -37.807817  144.897262     12 Pole Street\n",
       "1327          313 -37.806835  144.901581   13 Parker Street\n",
       "941           402 -37.797932  144.895828   16 Malden Street\n",
       "1655          403 -37.797905  144.895897   16 Malden Street"
      ]
     },
     "execution_count": 102,
     "metadata": {},
     "output_type": "execute_result"
    }
   ],
   "source": [
    "# remove duplicated values\n",
    "\n",
    "address_df.sort_values(\"property_id\", inplace=True)\n",
    "address_df.drop_duplicates(subset=\"property_id\",\n",
    "                     keep=False, inplace=True)\n",
    "address_df.head()"
   ]
  },
  {
   "cell_type": "code",
   "execution_count": 105,
   "metadata": {},
   "outputs": [],
   "source": [
    "# add columns to dataframe and set defualt values\n",
    "address_df['suburb'] = 'not available'\n",
    "address_df['closest_train_station_id'] = 0\n",
    "address_df['distance_to_closest_train_station'] = 0\n",
    "address_df['travel_min_to_MC'] = -1\n",
    "address_df['direct_journey_flag'] = -1\n",
    "address_df['Type'] = 'not identified'\n"
   ]
  },
  {
   "cell_type": "code",
   "execution_count": null,
   "metadata": {},
   "outputs": [],
   "source": [
    "# read shapefile and extract suburb name and it's boundary coordinat"
   ]
  }
 ],
 "metadata": {
  "kernelspec": {
   "display_name": "base",
   "language": "python",
   "name": "python3"
  },
  "language_info": {
   "codemirror_mode": {
    "name": "ipython",
    "version": 3
   },
   "file_extension": ".py",
   "mimetype": "text/x-python",
   "name": "python",
   "nbconvert_exporter": "python",
   "pygments_lexer": "ipython3",
   "version": "3.8.8"
  },
  "orig_nbformat": 4
 },
 "nbformat": 4,
 "nbformat_minor": 2
}
